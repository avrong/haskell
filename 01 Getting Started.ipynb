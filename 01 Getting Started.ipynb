{
 "cells": [
  {
   "cell_type": "code",
   "execution_count": 3,
   "metadata": {},
   "outputs": [],
   "source": [
    "--hello.hs hello world\n",
    "\n",
    "main = do\n",
    "  putStrLn \"Hello World\"\n",
    "  putStrLn \"Bye\""
   ]
  },
  {
   "cell_type": "code",
   "execution_count": 4,
   "metadata": {},
   "outputs": [
    {
     "data": {
      "text/plain": [
       "Hello World\n",
       "Bye"
      ]
     },
     "metadata": {},
     "output_type": "display_data"
    }
   ],
   "source": [
    "main"
   ]
  },
  {
   "cell_type": "code",
   "execution_count": 5,
   "metadata": {
    "scrolled": true
   },
   "outputs": [],
   "source": [
    "toPart recipient = \"Dear \" ++ recipient ++ \"?\\n\"\n",
    "bodyPart bookTitle = \"Thank you for bying \" ++ bookTitle ++ \"??\\n\"\n",
    "fromPart author = \"Your \" ++ author ++ \"???\\n\"\n",
    "\n",
    "createEmail recipient bookTitle author = toPart recipient ++\n",
    "                                         bodyPart bookTitle ++\n",
    "                                         fromPart author\n",
    "\n",
    "main::IO()\n",
    "main = do\n",
    "  putStrLn \"recipient\"\n",
    "  recipient <- getLine\n",
    "  \n",
    "  putStrLn \"book title\"\n",
    "  bookTitle <- getLine\n",
    "  \n",
    "  putStrLn \"author\"\n",
    "  author <- getLine\n",
    "  \n",
    "  putStrLn (createEmail recipient bookTitle author)"
   ]
  },
  {
   "cell_type": "code",
   "execution_count": 6,
   "metadata": {},
   "outputs": [
    {
     "ename": "",
     "evalue": "",
     "output_type": "error",
     "traceback": [
      "<stdin>: hGetLine: end of file"
     ]
    }
   ],
   "source": [
    "main"
   ]
  }
 ],
 "metadata": {
  "kernelspec": {
   "display_name": "Haskell",
   "language": "haskell",
   "name": "haskell"
  },
  "language_info": {
   "codemirror_mode": "ihaskell",
   "file_extension": ".hs",
   "name": "haskell",
   "pygments_lexer": "Haskell",
   "version": "8.6.5"
  }
 },
 "nbformat": 4,
 "nbformat_minor": 2
}
